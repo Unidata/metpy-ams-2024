{
 "cells": [
  {
   "cell_type": "markdown",
   "metadata": {},
   "source": [
    "<img src=\"http://xarray.pydata.org/en/stable/_static/logos/Xarray_Logo_RGB_Final.png\" width=\"500px\"></img>\n",
    "\n",
    "# 🌧 Forecasting with Xarray and the HRRR 🌨"
   ]
  },
  {
   "cell_type": "markdown",
   "metadata": {},
   "source": [
    "---"
   ]
  },
  {
   "cell_type": "markdown",
   "metadata": {},
   "source": [
    "## Overview\n",
    "\n",
    "The examples in this tutorial focus on the fundamentals of working with gridded, labeled data using Xarray. Xarray works by introducing additional abstractions into otherwise ordinary data arrays. In this tutorial, we demonstrate the usefulness of these abstractions. The examples in this tutorial explain how the proper usage of Xarray abstractions generally leads to simpler, more robust code.\n",
    "\n",
    "The following topics will be covered in this tutorial:\n",
    "\n",
    "1. Access HRRR Data Stored on the Cloud\n",
    "2. Use MetPy to clean the data\n",
    "3. Forecast for Baltimore!"
   ]
  },
  {
   "cell_type": "markdown",
   "metadata": {},
   "source": [
    "## Prerequisites\n",
    "\n",
    "| Concepts | Importance | Notes |\n",
    "| --- | --- | --- |\n",
    "| [NumPy Basics](../numpy/numpy-basics) | Necessary |  |\n",
    "| [Introduction to Xarray](https://foundations.projectpythia.org/core/xarray/xarray-intro.html)| Neccessary | Familiarity with xarray data structures |\n",
    "| [Introduction to Cartopy](https://foundations.projectpythia.org/core/cartopy/cartopy.html)| Neccessary | Familiarity with xarray data structures |\n",
    "| [Datetime](https://foundations.projectpythia.org/core/datetime/datetime.html) | Helpful | Familiarity with time formats and the `datetime` object |\n",
    "\n",
    "\n",
    "\n",
    "- **Time to learn**: 40 minutes"
   ]
  },
  {
   "cell_type": "markdown",
   "metadata": {},
   "source": [
    "---"
   ]
  },
  {
   "cell_type": "markdown",
   "metadata": {},
   "source": [
    "## Imports"
   ]
  },
  {
   "cell_type": "markdown",
   "metadata": {},
   "source": [
    "In earlier tutorials, we explained the abbreviation of commonly used scientific Python package names in import statements. Just as `numpy` is abbreviated `np`, and just as `pandas` is abbreviated `pd`, the name `xarray` is often abbreviated `xr` in import statements."
   ]
  },
  {
   "cell_type": "code",
   "execution_count": null,
   "metadata": {},
   "outputs": [],
   "source": [
    "from datetime import datetime, timedelta, UTC\n",
    "\n",
    "# Core libraries in the scientific python/pangeo space\n",
    "import numpy as np\n",
    "import pandas as pd\n",
    "import xarray as xr\n",
    "import cartopy.crs as ccrs\n",
    "import metpy\n",
    "\n",
    "# For Data Access\n",
    "from siphon.catalog import TDSCatalog"
   ]
  },
  {
   "cell_type": "markdown",
   "metadata": {},
   "source": [
    "## Access HRRR Data Stored in the Cloud\n",
    "Our first step is finding data to use for our forecast! For today's exercise, let's use the HRRR model data, which is stored on Amazon Web Services (AWS).\n",
    "\n",
    "### The HRRR Model\n",
    "The first step is finding a dataset to use. In today's tutorial, we will use data from the High Resolution Rapid Refresh (HRRR), a weather forecasting model developed and produced by the National Oceanic and Atmospheric Administration.\n",
    "\n",
    "### The Zarr Archive\n",
    "For a number of years, the Mesowest group at the University of Utah has hosted an archive of data from NCEP’s High Resolution Rapid Refresh model. This data, originally in GRIB-2 format, has been converted into Zarr and is freely available “in the cloud”, on Amazon Web Service’s Simple Storage Service, otherwise known as S3. Data is stored in S3 in a manner akin to (but different from) a Linux filesystem, using a bucket and object model.\n",
    "\n",
    "To interactively browse the contents of this archive, go to this link: HRRRZarr File Browser on AWS\n",
    "\n",
    "To access Zarr-formatted data stored in an S3 bucket, we follow a 3-step process:\n",
    "\n",
    "- Create URL(s) pointing to the bucket and object(s) that contain the data we want\n",
    "\n",
    "- Pass the map(s) to Xarray’s open_dataset or open_mfdataset methods, and specify zarr as the format, via the engine argument, as well as that we are accessing anonymously (without credentials)"
   ]
  },
  {
   "cell_type": "markdown",
   "metadata": {},
   "source": [
    "### Configure the URLs\n",
    "We start by setting up our url to search for the data. We can use the current time (in Coordinated Universal Time, or UTC). Since the HRRR model only runs for longer durations at 6 hour invervals, we would like to access the most recent 0, 6, 12, or 18 UTC run.\n",
    "\n",
    "#### Determining the Time\n",
    "\n",
    "Let's start with the time!"
   ]
  },
  {
   "cell_type": "code",
   "execution_count": null,
   "metadata": {},
   "outputs": [],
   "source": [
    "datetime = datetime.now(UTC)\n",
    "date = datetime.strftime(\"%Y%m%d\")\n",
    "date"
   ]
  },
  {
   "cell_type": "markdown",
   "metadata": {},
   "source": [
    "Now, the hour. This where we need to add some logic. By default, we get the current hour."
   ]
  },
  {
   "cell_type": "code",
   "execution_count": null,
   "metadata": {},
   "outputs": [],
   "source": [
    "int(datetime.strftime(\"%H\"))"
   ]
  },
  {
   "cell_type": "markdown",
   "metadata": {},
   "source": [
    "If we divide by 6, including the remainder, we can reveal the most recent 0, 6, 12, or 18 UTC run."
   ]
  },
  {
   "cell_type": "code",
   "execution_count": null,
   "metadata": {},
   "outputs": [],
   "source": [
    "(int(datetime.strftime(\"%H\")) // 6)"
   ]
  },
  {
   "cell_type": "markdown",
   "metadata": {},
   "source": [
    "We still need to convert that back to an interval of 6 - so we can multiply by 6!"
   ]
  },
  {
   "cell_type": "code",
   "execution_count": null,
   "metadata": {},
   "outputs": [],
   "source": [
    "hour = ((int(datetime.strftime(\"%H\")) - 2) // 6) * 6\n",
    "hour"
   ]
  },
  {
   "cell_type": "markdown",
   "metadata": {},
   "source": [
    "#### Choose a variable and vertical level\n",
    "Now, we need to choose a variable. One of the most important variables for the weather forecast challenge is temperature! Both the high and low temperature. So let's start there. For the HRRR, the variable is titled `TMP`, with a height of `2m_above_ground`."
   ]
  },
  {
   "cell_type": "code",
   "execution_count": null,
   "metadata": {},
   "outputs": [],
   "source": [
    "var = 'TMP'\n",
    "level = '2m_above_ground'"
   ]
  },
  {
   "cell_type": "markdown",
   "metadata": {},
   "source": [
    "#### Build the URLs\n",
    "Now that we have all of our variables, we can build the URLs! We need two urls, as we will access the variable metadata as well as the dataset itself."
   ]
  },
  {
   "cell_type": "code",
   "execution_count": null,
   "metadata": {},
   "outputs": [],
   "source": [
    "# Format the bins\n",
    "url1 = f's3://hrrrzarr/sfc/{date}/{date}_{hour:02d}z_fcst.zarr/{level}/{var}/{level}'\n",
    "url2 = f's3://hrrrzarr/sfc/{date}/{date}_{hour:02d}z_fcst.zarr/{level}/{var}/'\n",
    "\n",
    "print(url1, url2)"
   ]
  },
  {
   "cell_type": "markdown",
   "metadata": {},
   "source": [
    "### Read the Dataset using Xarray\n",
    "Now that we have our URLs, we can pass these to `open_mfdataset`, which is short for \"Open Multifile Dataset\". We specify that we are reading zarr files, and that we are accessing anonymously (without Amazon Web Service credentials)."
   ]
  },
  {
   "cell_type": "code",
   "execution_count": null,
   "metadata": {},
   "outputs": [],
   "source": [
    "ds = xr.open_mfdataset([url1,url2],\n",
    "                       engine='zarr',\n",
    "                       storage_options={'anon':True})\n",
    "ds"
   ]
  },
  {
   "cell_type": "code",
   "execution_count": null,
   "metadata": {},
   "outputs": [],
   "source": [
    "temp = ds.TMP\n",
    "temp"
   ]
  },
  {
   "cell_type": "markdown",
   "metadata": {},
   "source": [
    "## Cleaning the Data\n",
    "As an atmospheric scientist/meteorologist/data scientist, cleaning the data is often the most important, and tedious step to the analysis pipeline! Fortunately, our data is pretty clean already! Looking at our dataset, we have:\n",
    "- Projected Coordinates\n",
    "- Time\n",
    "- Units\n",
    "\n",
    "We do not have the actual latitude and longitude though... which makes subsetting for just the Baltimore area challenging.\n"
   ]
  },
  {
   "cell_type": "markdown",
   "metadata": {},
   "source": [
    "### Access the Grid Information\n",
    "Fortunately, the grid information is available in the same bucket! We populated a dictionary for you to make things easier (open the hidden cell to see how you can access this programtically)."
   ]
  },
  {
   "cell_type": "code",
   "execution_count": null,
   "metadata": {},
   "outputs": [],
   "source": [
    "grid_params = {'a': 6371229,\n",
    "               'b': 6371229,\n",
    "               'proj': 'lcc',\n",
    "               'lon_0': 262.5,\n",
    "               'lat_0': 38.5,\n",
    "               'lat_1': 38.5,\n",
    "               'lat_2': 38.5}"
   ]
  },
  {
   "cell_type": "code",
   "execution_count": null,
   "metadata": {
    "jupyter": {
     "source_hidden": true
    }
   },
   "outputs": [],
   "source": [
    "import s3fs\n",
    "import json\n",
    "\n",
    "fs = s3fs.S3FileSystem(anon=True)\n",
    "with fs.open('s3://hrrrzarr/grid/projparams.json', 'rb') as f:\n",
    "    grid_params = json.load(f)"
   ]
  },
  {
   "cell_type": "markdown",
   "metadata": {},
   "source": [
    "#### Build the Projection\n",
    "Once we have the grid information, we can build the projection! We pass the parameters to Cartopy, a mapping library, which returns a nice map detailing our projected coordinate system. Notice how it is centered on North America!"
   ]
  },
  {
   "cell_type": "code",
   "execution_count": null,
   "metadata": {},
   "outputs": [],
   "source": [
    "projData= ccrs.LambertConformal(central_longitude=grid_params[\"lon_0\"],\n",
    "                                central_latitude=grid_params[\"lat_0\"],\n",
    "                                standard_parallels=[grid_params[\"lat_1\"],\n",
    "                                                    grid_params[\"lat_1\"]],\n",
    "                                globe=ccrs.Globe(semimajor_axis=grid_params[\"a\"],\n",
    "                                                 semiminor_axis=grid_params[\"b\"]))\n",
    "projData"
   ]
  },
  {
   "cell_type": "markdown",
   "metadata": {},
   "source": [
    "#### Add this to our data\n",
    "Once we have this projection, we can use MetPy to add this to the dataset, making indexing and visualization much easier.\n",
    "\n",
    "Notice how we now have `metpy_crs` as a coordinate in the dataset."
   ]
  },
  {
   "cell_type": "code",
   "execution_count": null,
   "metadata": {},
   "outputs": [],
   "source": [
    "temp = temp.metpy.assign_crs(projData.to_cf())\n",
    "temp"
   ]
  },
  {
   "cell_type": "markdown",
   "metadata": {},
   "source": [
    "### Convert our Units to Fahrenheit\n",
    "\n",
    "The Weather Challenge requires temperature to be in degrees Fahrenheit. Fortunately, MetPy has units-support built in, so we can easily complete this conversion without looking up with conversion factors!"
   ]
  },
  {
   "cell_type": "code",
   "execution_count": null,
   "metadata": {},
   "outputs": [],
   "source": [
    "temp = temp.metpy.convert_units('degF')\n",
    "temp"
   ]
  },
  {
   "cell_type": "markdown",
   "metadata": {},
   "source": [
    "## Forecast for Baltimore!\n",
    "Now that we have our cleaned dataset, we can get to the analysis! Let's start with subsetting the data near Baltimore.\n",
    "\n",
    "### Subset the nearest point to Baltimore, Maryland\n",
    "\n",
    "Baltimore as the coordinates:\n",
    "- -76.6122 degrees West\n",
    "- 39.2904 degrees North\n",
    "\n",
    "Let's pass this to MetPy's transformation function to determine our indices to slice from the dataset. This converts from a non-projected coordinate system (lat, lon) to a projected coordinate system (lambert conformal)."
   ]
  },
  {
   "cell_type": "code",
   "execution_count": null,
   "metadata": {},
   "outputs": [],
   "source": [
    "latitude = 39.2904\n",
    "longitude = -76.6122\n",
    "my_x, my_y = temp.metpy.cartopy_crs.transform_point(longitude,\n",
    "                                                    latitude,\n",
    "                                                    ccrs.PlateCarree())\n",
    "\n",
    "my_x, my_y"
   ]
  },
  {
   "cell_type": "markdown",
   "metadata": {},
   "source": [
    "Now, we pass this to xarray's selection function, specifying that we would like the nearest gridpoint to this location."
   ]
  },
  {
   "cell_type": "code",
   "execution_count": null,
   "metadata": {},
   "outputs": [],
   "source": [
    "baltimore_temperature = temp.sel(projection_x_coordinate = my_x,\n",
    "                                 projection_y_coordinate = my_y,\n",
    "                                 method='nearest')\n",
    "baltimore_temperature"
   ]
  },
  {
   "cell_type": "code",
   "execution_count": null,
   "metadata": {},
   "outputs": [],
   "source": [
    "baltimore_temperature.plot();"
   ]
  },
  {
   "cell_type": "markdown",
   "metadata": {},
   "source": [
    "### Challenge Problem\n",
    "Forecast for wind speeds! This will require configuring new URLs for the data, as well as using the proper units.\n",
    "\n",
    "Hints:\n",
    "- The height of the measurement is `10m_above_ground`\n",
    "- The variables are `UGRD` (u-componet of the wind) and `VGRD`(v-component of the wind)\n",
    "- You will need to convert to use units of `kt` for the wind\n",
    "- Wind speed can be derived from the u/v components of the wind using [`metpy.calc.wind_speed`](https://unidata.github.io/MetPy/latest/examples/calculations/Wind_Speed.html#wind-speed) "
   ]
  },
  {
   "cell_type": "code",
   "execution_count": null,
   "metadata": {},
   "outputs": [],
   "source": [
    "# Your code here"
   ]
  },
  {
   "cell_type": "markdown",
   "metadata": {
    "jp-MarkdownHeadingCollapsed": true
   },
   "source": [
    "### Solution"
   ]
  },
  {
   "cell_type": "markdown",
   "metadata": {},
   "source": [
    "#### Read the Data"
   ]
  },
  {
   "cell_type": "code",
   "execution_count": null,
   "metadata": {
    "jupyter": {
     "source_hidden": true
    }
   },
   "outputs": [],
   "source": [
    "level = '10m_above_ground'\n",
    "var1 = 'UGRD'\n",
    "var2 = 'VGRD'\n",
    "\n",
    "# Format the bins\n",
    "url1 = f's3://hrrrzarr/sfc/{date}/{date}_{hour:02d}z_fcst.zarr/{level}/{var1}/{level}'\n",
    "url2 = f's3://hrrrzarr/sfc/{date}/{date}_{hour:02d}z_fcst.zarr/{level}/{var1}/'\n",
    "url3 = f's3://hrrrzarr/sfc/{date}/{date}_{hour:02d}z_fcst.zarr/{level}/{var2}/{level}'\n",
    "url4 = f's3://hrrrzarr/sfc/{date}/{date}_{hour:02d}z_fcst.zarr/{level}/{var2}/'\n",
    "\n",
    "\n",
    "ds1 = xr.open_mfdataset([url1,\n",
    "                        url2],\n",
    "                        engine='zarr',\n",
    "                        storage_options={'anon':True})\n",
    "\n",
    "ds2 = xr.open_mfdataset([url3,\n",
    "                         url4],\n",
    "                        engine='zarr',\n",
    "                        storage_options={'anon':True})\n",
    "ds = xr.merge([ds1, ds2]).metpy.parse_cf()\n",
    "ds"
   ]
  },
  {
   "cell_type": "markdown",
   "metadata": {},
   "source": [
    "#### Pre-Process with MetPy"
   ]
  },
  {
   "cell_type": "code",
   "execution_count": null,
   "metadata": {
    "jupyter": {
     "source_hidden": true
    }
   },
   "outputs": [],
   "source": [
    "# Convert to wind speed\n",
    "ds[\"wind_speed\"] = metpy.calc.wind_speed(ds.UGRD, ds.VGRD)\n",
    "ds[\"wind_speed\"].attrs[\"units\"] = ds.UGRD.attrs[\"units\"]\n",
    "\n",
    "# Conver to knots\n",
    "ds[\"wind_speed\"] = ds.wind_speed.metpy.convert_units(\"kt\")\n",
    "ds[\"wind_speed\"].attrs[\"units\"] = \"kt\"\n",
    "\n",
    "# Add the coordinate reference system\n",
    "ds = ds.metpy.assign_crs(projData.to_cf())"
   ]
  },
  {
   "cell_type": "markdown",
   "metadata": {},
   "source": [
    "#### Subset for Baltimore + Analyze!"
   ]
  },
  {
   "cell_type": "code",
   "execution_count": null,
   "metadata": {
    "jupyter": {
     "source_hidden": true
    }
   },
   "outputs": [],
   "source": [
    "baltimore_wind = ds.wind_speed.sel(projection_x_coordinate = my_x,\n",
    "                                   projection_y_coordinate = my_y,\n",
    "                                   method='nearest')\n",
    "baltimore_wind.plot();"
   ]
  },
  {
   "cell_type": "markdown",
   "metadata": {},
   "source": [
    "---"
   ]
  },
  {
   "cell_type": "markdown",
   "metadata": {},
   "source": [
    "## Summary\n",
    "\n",
    "The HRRR dataset can be a useful tool for short-term forecasts, especially since an easily accessible version is stored on the public cloud. With xarray and MetPy, we can easily access and clean the data, producing analysis without needing to download the data locally. By making use of labeled coordinates and the open-source pythons stack here, our code is often easier to write, easier to read, and more robust.\n",
    "\n",
    "### What's next?\n",
    "\n",
    "Check out more sources on Project Pythia focused on xarray! Including:\n",
    "- [Calculating ENSO with Xarray](https://foundations.projectpythia.org/core/xarray/enso-xarray.html)\n",
    "- [The CMIP6 Cookbook (climate model data)](https://projectpythia.org/cmip6-cookbook/README.html)"
   ]
  },
  {
   "cell_type": "markdown",
   "metadata": {},
   "source": [
    "## Resources and references\n",
    "\n",
    "Most basic questions and issues with Xarray can be resolved with help from the material in the [Xarray documentation](http://xarray.pydata.org/en/stable/). Some of the most popular sections of this documentation are listed below:\n",
    "- [Why Xarray](http://xarray.pydata.org/en/stable/getting-started-guide/why-xarray.html)\n",
    "- [Quick overview](http://xarray.pydata.org/en/stable/getting-started-guide/quick-overview.html#)\n",
    "- [Example gallery](http://xarray.pydata.org/en/stable/gallery.html)\n",
    "\n",
    "Another resource you may find useful is this [Xarray Tutorial collection](https://xarray-contrib.github.io/xarray-tutorial/), created from content hosted on GitHub."
   ]
  }
 ],
 "metadata": {
  "kernelspec": {
   "display_name": "Python 3 (ipykernel)",
   "language": "python",
   "name": "python3"
  },
  "language_info": {
   "codemirror_mode": {
    "name": "ipython",
    "version": 3
   },
   "file_extension": ".py",
   "mimetype": "text/x-python",
   "name": "python",
   "nbconvert_exporter": "python",
   "pygments_lexer": "ipython3",
   "version": "3.11.7"
  }
 },
 "nbformat": 4,
 "nbformat_minor": 4
}
