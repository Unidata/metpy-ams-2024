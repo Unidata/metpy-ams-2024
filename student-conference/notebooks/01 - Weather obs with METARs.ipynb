{
 "cells": [
  {
   "cell_type": "code",
   "execution_count": null,
   "id": "9f3f402b-f975-43c9-8029-eed178441a06",
   "metadata": {},
   "outputs": [],
   "source": [
    "import metpy.calc as mpcalc\n",
    "import pandas as pd\n",
    "from metpy.io import parse_metar_file\n",
    "from siphon.catalog import TDSCatalog"
   ]
  },
  {
   "cell_type": "code",
   "execution_count": null,
   "id": "4dc48713-92f1-498e-aa5f-fefb3f2242b4",
   "metadata": {},
   "outputs": [],
   "source": [
    "df = pd.read_csv('BWI.csv')\n",
    "df"
   ]
  },
  {
   "cell_type": "code",
   "execution_count": null,
   "id": "75420126-2379-4e5c-bf24-1cd9c2e5398a",
   "metadata": {},
   "outputs": [],
   "source": []
  },
  {
   "cell_type": "code",
   "execution_count": null,
   "id": "a48f8904-c823-421d-bfa8-b740dcdcf945",
   "metadata": {},
   "outputs": [],
   "source": []
  },
  {
   "cell_type": "code",
   "execution_count": null,
   "id": "dc0aa7a4-afff-4437-afa0-6865f76a8cf2",
   "metadata": {},
   "outputs": [],
   "source": []
  },
  {
   "cell_type": "markdown",
   "id": "14cbad45-9f9a-4fdb-8c01-d93aa59ae7d3",
   "metadata": {},
   "source": [
    "---"
   ]
  },
  {
   "cell_type": "code",
   "execution_count": null,
   "id": "103eb505-b567-4b0f-993f-2126a0bd6441",
   "metadata": {},
   "outputs": [],
   "source": [
    "cat = TDSCatalog('https://thredds.ucar.edu/thredds/catalog/noaaport/text/metar/catalog.xml')\n",
    "cat.datasets"
   ]
  },
  {
   "cell_type": "code",
   "execution_count": null,
   "id": "20323408-84e8-443c-8522-49c04035d216",
   "metadata": {},
   "outputs": [],
   "source": [
    "ds = cat.datasets[-1]\n",
    "ds"
   ]
  },
  {
   "cell_type": "code",
   "execution_count": null,
   "id": "13992f31-6b6e-45b2-994c-6a8721e107ea",
   "metadata": {},
   "outputs": [],
   "source": [
    "ds.download()"
   ]
  },
  {
   "cell_type": "code",
   "execution_count": null,
   "id": "aa9a5458-292a-4ca0-93f7-a0517412e372",
   "metadata": {},
   "outputs": [],
   "source": [
    "df = parse_metar_file('metar_20240128_1600.txt')\n",
    "df"
   ]
  },
  {
   "cell_type": "code",
   "execution_count": null,
   "id": "d062180b-b4b6-43e4-a694-842d67771a79",
   "metadata": {},
   "outputs": [],
   "source": [
    "bwi = df.loc['KBWI']\n",
    "bwi"
   ]
  }
 ],
 "metadata": {
  "kernelspec": {
   "display_name": "Python 3 (ipykernel)",
   "language": "python",
   "name": "python3"
  },
  "language_info": {
   "codemirror_mode": {
    "name": "ipython",
    "version": 3
   },
   "file_extension": ".py",
   "mimetype": "text/x-python",
   "name": "python",
   "nbconvert_exporter": "python",
   "pygments_lexer": "ipython3",
   "version": "3.11.7"
  }
 },
 "nbformat": 4,
 "nbformat_minor": 5
}
